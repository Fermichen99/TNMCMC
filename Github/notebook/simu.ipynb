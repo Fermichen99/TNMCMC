{
 "cells": [
  {
   "cell_type": "markdown",
   "id": "922f74b9",
   "metadata": {},
   "source": [
    "# An Overview of the TNMCMC for 3D Spin Glass Simulation Algorithm"
   ]
  },
  {
   "cell_type": "markdown",
   "id": "d84e7112",
   "metadata": {},
   "source": [
    "This notebook provides a concise explanation of the simulation workflow for studying the 3D Edwards-Anderson spin glass model, as implemented in `3Drunargs.jl` and its associated modules.\n",
    "\n",
    "## 1. Project Goal & Methodology\n",
    "\n",
    "The primary goal of this project is to simulate the **3D Edwards-Anderson (EA) spin glass model** with open boundary conditions. A major challenge in simulating spin glasses, especially at low temperatures, is **critical slowing down**, where traditional local-update Monte Carlo methods (like single-spin flips) become extremely inefficient at exploring the system's complex energy landscape.\n",
    "\n",
    "To overcome this, the project implements two distinct algorithms:\n",
    "1.  A standard **Metropolis Monte Carlo** algorithm as a baseline.\n",
    "2.  A more advanced **Tensor Network Metropolis-Hastings (TNMH)** algorithm, which performs non-local, collective updates on large blocks of spins to accelerate convergence."
   ]
  },
  {
   "cell_type": "markdown",
   "id": "49fd2e57",
   "metadata": {},
   "source": [
    "## 2. How to Run the Simulation\n",
    "\n",
    "The simulation is launched from the command line via the main script `3Drunargs.jl`. The behavior of the simulation is controlled by a rich set of command-line arguments.\n",
    "\n",
    "### Example Command:\n",
    "```bash\n",
    "julia 3Drunargs.jl  --Type FBC --P 0.5 --zchunk 1 --ychunk 4 --xchunk 4 --Lz 4 --L 4 --Dimension 3 --Beta 1.5 --chi 4 --Ndisorder 10 --Nsample 100 --Ntherm 100 --step 1 --Nreplic 2 --seed 1"
   ]
  },
  {
   "cell_type": "code",
   "execution_count": 1,
   "id": "13a324b3",
   "metadata": {},
   "outputs": [],
   "source": [
    "include(\"../src/SpinGlass.jl\")\n",
    "using .SpinGlass\n",
    "using Random\n",
    "using FileIO"
   ]
  },
  {
   "cell_type": "code",
   "execution_count": 4,
   "id": "8ddcf54b",
   "metadata": {},
   "outputs": [
    {
     "name": "stdout",
     "output_type": "stream",
     "text": [
      "Elapsed time (seconds): 0.174\n"
     ]
    }
   ],
   "source": [
    "# 1. input\n",
    "judge = \"FBC\"\n",
    "Beta = 1.5\n",
    "P = 0.5\n",
    "L = 4\n",
    "Lz = 4\n",
    "zchunk = 1\n",
    "ychunk = 4\n",
    "xchunk = 4\n",
    "Dimension = 3\n",
    "chi = 4\n",
    "Ndisorder = 1\n",
    "Nsample = 10\n",
    "Ntherm = 10\n",
    "step = 0\n",
    "Nreplic = 2\n",
    "seed = 1\n",
    "verbose = 0\n",
    "T = [Beta,P]\n",
    "parsed_params = [L, Lz,zchunk, ychunk, xchunk, Dimension, chi, Ndisorder, Nsample, Ntherm, step, Nreplic, seed, verbose]\n",
    "\n",
    "# 2. Initialize data structures for parameters, spin configurations, statistics, etc.\n",
    "pa = Parament(judge, T..., parsed_params...)\n",
    "sp = Spin(pa)\n",
    "st = Statistics(pa)\n",
    "da = DataFile(pa)\n",
    "te = Tensor(pa.chi,pa.zchunk,pa.ychunk,pa.xchunk)\n",
    "Random.seed!(parsed_params[end])\n",
    "\n",
    "# 3. Seed the random number generator for reproducibility\n",
    "Random.seed!(parsed_params[end])\n",
    "\n",
    "SimulationTNMH(pa, sp, st, da) # Use Tensor Network Method"
   ]
  },
  {
   "cell_type": "markdown",
   "id": "465dbd68",
   "metadata": {},
   "source": [
    "## 3. Deep Dive into the TNMH Algorithm\n",
    "\n",
    "The TNMH algorithm is a method designed to perform efficient, non-local updates. Instead of flipping one spin at a time, it proposes a collective update for a large 3D block of spins.\n",
    "\n",
    "### TNMH Workflow Step-by-Step\n",
    "\n",
    "The `SimulationTNMH` function follows a structured, multi-layered loop.\n",
    "\n",
    "**1. Disorder Loop:**\n",
    "The outermost loop iterates from `idis in 1:pa.Ndisorder`, just like the standard Metropolis. This ensures results are averaged over many different random spin glass instances.\n",
    "\n",
    "**2. Thermalization and Sampling Loops:**\n",
    "Inside the disorder loop, there are standard `itherm` and `isamp` loops for thermalization and measurement. The key difference is what happens inside each simulation step.\n",
    "\n",
    "**3. The \"Sweep\":**\n",
    "A single \"sweep\" in this algorithm is highly sophisticated and consists of three main parts:\n",
    "    \n",
    "   **a. Directional TNMH Block Updates:**\n",
    "   The code iterates through a set of directions (e.g., `:zyx2yxz`, etc.). This ensures that the blocks being updated sweep through the 3D lattice in different ways to avoid bias. For each direction, the algorithm does the following:\n",
    "   * It iterates through the entire 3D lattice, selecting **overlapping 3D blocks** of spins of size `zchunk x ychunk x xchunk`.\n",
    "   * **Tensor Network Construction (`InitTensor`)**: For a selected block, it builds a local tensor network representation. The bond dimension `chi` is used here to compress the environment information, making the calculation feasible.\n",
    "   * **Block Sampling (`TNMH_oe`)**: It then samples a **brand-new configuration for the entire block** from the probability distribution described by the tensor network. This is a massive, collective move that can cross energy barriers that would be impossible for single-spin flips.\n",
    "   * **Metropolis-Hastings Acceptance (`Accept`)**: The proposed update for the entire block is then accepted or rejected based on the standard Metropolis-Hastings criterion.\n",
    "\n",
    "This entire three-part process constitutes one step in the `itherm` or `isamp` loop."
   ]
  },
  {
   "cell_type": "markdown",
   "id": "03e22871",
   "metadata": {},
   "source": [
    "### Simplified TNMH Loop Structure\n",
    "\n",
    "Here is a conceptual representation of the core loop in `SimulationTNMH`:\n",
    "\n",
    "```julia\n",
    "# Simplified pseudo-code for the main simulation loop\n",
    "\n",
    "for idis in 1:Ndisorder          # Loop over random bond configurations\n",
    "    # ... Load or generate bonds ...\n",
    "    \n",
    "    for itherm in 1:Ntherm       # Thermalization loop\n",
    "        for direction in [:zyx, :yxz, :xzy]  # Directional sweeps\n",
    "        \n",
    "            # A: Perform TNMH block updates across the entire lattice\n",
    "            for block in all_blocks_in_lattice\n",
    "                propose_new_state_for_block_using_tensors()\n",
    "                accept_or_reject_block_update()\n",
    "            end\n",
    "\n",
    "            # B: Perform a quick global Metropolis sweep\n",
    "            perform_single_spin_flips()\n",
    "        end\n",
    "        # C: Perform a global spin flip for symmetry\n",
    "        flip_all_spins()\n",
    "    end\n",
    "    \n",
    "    for isamp in 1:Nsample         # Measurement loop (repeats the same hybrid sweep)\n",
    "        # ... (same sweep logic as above) ...\n",
    "        measure_observables()\n",
    "    end\n",
    "    \n",
    "    normalize_and_save_results()\n",
    "end"
   ]
  }
 ],
 "metadata": {
  "kernelspec": {
   "display_name": "Julia 1.11.5",
   "language": "julia",
   "name": "julia-1.11"
  },
  "language_info": {
   "file_extension": ".jl",
   "mimetype": "application/julia",
   "name": "julia",
   "version": "1.11.5"
  }
 },
 "nbformat": 4,
 "nbformat_minor": 5
}
